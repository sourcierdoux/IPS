{
 "cells": [
  {
   "cell_type": "code",
   "execution_count": 26,
   "id": "850f89c6",
   "metadata": {},
   "outputs": [],
   "source": [
    "import numpy as np\n",
    "import pandas as pd"
   ]
  },
  {
   "cell_type": "code",
   "execution_count": 93,
   "id": "a9852258",
   "metadata": {},
   "outputs": [],
   "source": [
    "df=pd.read_csv('/Users/guillaumelecronier/Documents/NUS/Master thesis/IPS_BLE_MV/IPS/fingerprint/errors_fingerprint.csv')\n",
    "#df=pd.read_csv('/Users/guillaumelecronier/Documents/NUS/Master thesis/IPS_BLE_MV/IPS/errors_trilateration.csv')"
   ]
  },
  {
   "cell_type": "code",
   "execution_count": 94,
   "id": "947a32e6",
   "metadata": {},
   "outputs": [
    {
     "data": {
      "text/html": [
       "<div>\n",
       "<style scoped>\n",
       "    .dataframe tbody tr th:only-of-type {\n",
       "        vertical-align: middle;\n",
       "    }\n",
       "\n",
       "    .dataframe tbody tr th {\n",
       "        vertical-align: top;\n",
       "    }\n",
       "\n",
       "    .dataframe thead th {\n",
       "        text-align: right;\n",
       "    }\n",
       "</style>\n",
       "<table border=\"1\" class=\"dataframe\">\n",
       "  <thead>\n",
       "    <tr style=\"text-align: right;\">\n",
       "      <th></th>\n",
       "      <th>x_pred</th>\n",
       "      <th>y_pred</th>\n",
       "      <th>x_true</th>\n",
       "      <th>y_true</th>\n",
       "    </tr>\n",
       "  </thead>\n",
       "  <tbody>\n",
       "    <tr>\n",
       "      <th>0</th>\n",
       "      <td>3.553333</td>\n",
       "      <td>4.126667</td>\n",
       "      <td>1</td>\n",
       "      <td>3</td>\n",
       "    </tr>\n",
       "    <tr>\n",
       "      <th>1</th>\n",
       "      <td>1.253333</td>\n",
       "      <td>3.306667</td>\n",
       "      <td>1</td>\n",
       "      <td>3</td>\n",
       "    </tr>\n",
       "    <tr>\n",
       "      <th>2</th>\n",
       "      <td>2.946667</td>\n",
       "      <td>4.860000</td>\n",
       "      <td>1</td>\n",
       "      <td>3</td>\n",
       "    </tr>\n",
       "    <tr>\n",
       "      <th>3</th>\n",
       "      <td>2.273333</td>\n",
       "      <td>4.200000</td>\n",
       "      <td>1</td>\n",
       "      <td>3</td>\n",
       "    </tr>\n",
       "    <tr>\n",
       "      <th>4</th>\n",
       "      <td>2.900000</td>\n",
       "      <td>5.433333</td>\n",
       "      <td>1</td>\n",
       "      <td>3</td>\n",
       "    </tr>\n",
       "  </tbody>\n",
       "</table>\n",
       "</div>"
      ],
      "text/plain": [
       "     x_pred    y_pred  x_true  y_true\n",
       "0  3.553333  4.126667       1       3\n",
       "1  1.253333  3.306667       1       3\n",
       "2  2.946667  4.860000       1       3\n",
       "3  2.273333  4.200000       1       3\n",
       "4  2.900000  5.433333       1       3"
      ]
     },
     "execution_count": 94,
     "metadata": {},
     "output_type": "execute_result"
    }
   ],
   "source": [
    "df.head()"
   ]
  },
  {
   "cell_type": "code",
   "execution_count": 95,
   "id": "78601c0f",
   "metadata": {},
   "outputs": [],
   "source": [
    "df['error']=df.apply(lambda x: np.sqrt((x['x_true']*0.6-x['x_pred']*0.6)**2+(x['y_true']*0.6-x['y_pred']*0.6)**2),axis=1)"
   ]
  },
  {
   "cell_type": "code",
   "execution_count": 96,
   "id": "336cd177",
   "metadata": {},
   "outputs": [
    {
     "data": {
      "text/plain": [
       "3.296113029109593"
      ]
     },
     "execution_count": 96,
     "metadata": {},
     "output_type": "execute_result"
    }
   ],
   "source": [
    "np.percentile(df['error'],95)"
   ]
  },
  {
   "cell_type": "code",
   "execution_count": 97,
   "id": "5e985fea",
   "metadata": {},
   "outputs": [
    {
     "data": {
      "text/plain": [
       "1.260748059729644"
      ]
     },
     "execution_count": 97,
     "metadata": {},
     "output_type": "execute_result"
    }
   ],
   "source": [
    "df['error'].mean()"
   ]
  },
  {
   "cell_type": "code",
   "execution_count": 98,
   "id": "a85ab941",
   "metadata": {},
   "outputs": [
    {
     "data": {
      "text/plain": [
       "3.66580959680123"
      ]
     },
     "execution_count": 98,
     "metadata": {},
     "output_type": "execute_result"
    }
   ],
   "source": [
    "df['error'].max()"
   ]
  },
  {
   "cell_type": "code",
   "execution_count": 99,
   "id": "3066bafe",
   "metadata": {},
   "outputs": [
    {
     "data": {
      "image/png": "[encoded data removed]",
      "text/plain": [
       "<Figure size 640x480 with 1 Axes>"
      ]
     },
     "metadata": {},
     "output_type": "display_data"
    }
   ],
   "source": [
    "import matplotlib.pyplot as plt\n",
    "import seaborn as sns\n",
    "\n",
    "\n",
    "# Plotting the CDF\n",
    "sns.ecdfplot(data=df['error'])\n",
    "plt.xlabel('Errors')\n",
    "plt.ylabel('CDF')\n",
    "plt.title('Cumulative Distribution Function of Errors (Trilateration)')\n",
    "plt.grid(True)\n",
    "plt.savefig('cdf_fingerprint.png')\n",
    "plt.show()"
   ]
  },
  {
   "cell_type": "code",
   "execution_count": 100,
   "id": "beafa623",
   "metadata": {},
   "outputs": [],
   "source": [
    "FAN_POSITION=(7,14.5)\n",
    "def angle_diff(value, true_value):\n",
    "    if value is None:\n",
    "        return None\n",
    "    return np.rad2deg(np.abs(np.arctan2(FAN_POSITION[1]-true_value[1],FAN_POSITION[0]-true_value[0])-np.arctan2(FAN_POSITION[1]-value[1],FAN_POSITION[0]-value[0])))\n",
    "df['error_angle']=df.apply(lambda x: angle_diff((x['x_pred']*0.6,x['y_pred']*0.6),(x['x_true']*0.6,x['y_true']*0.6)),axis=1)\n"
   ]
  },
  {
   "cell_type": "code",
   "execution_count": 101,
   "id": "7e46570d",
   "metadata": {},
   "outputs": [
    {
     "data": {
      "text/plain": [
       "4.473000058121968"
      ]
     },
     "execution_count": 101,
     "metadata": {},
     "output_type": "execute_result"
    }
   ],
   "source": [
    "df['error_angle'].mean()"
   ]
  },
  {
   "cell_type": "code",
   "execution_count": 102,
   "id": "1ba084f4",
   "metadata": {},
   "outputs": [
    {
     "data": {
      "image/png": "[encoded data removed]",
      "text/plain": [
       "<Figure size 640x480 with 1 Axes>"
      ]
     },
     "metadata": {},
     "output_type": "display_data"
    }
   ],
   "source": [
    "sns.ecdfplot(data=df['error_angle'])\n",
    "plt.xlabel('Errors')\n",
    "plt.ylabel('CDF')\n",
    "plt.title('Cumulative Distribution Function of Errors (Trilateration)')\n",
    "plt.grid(True)\n",
    "plt.savefig('cdf_angle_fingerprint.png')\n",
    "plt.show()"
   ]
  },
  {
   "cell_type": "code",
   "execution_count": 103,
   "id": "523b1067",
   "metadata": {},
   "outputs": [],
   "source": [
    "import matplotlib.pyplot as plt\n",
    "room_width = 12\n",
    "room_length = 17\n",
    "camera_position=(2.5, 16)\n",
    "average_df=df.groupby(['x_true','y_true']).mean().reset_index()\n",
    "\n",
    "\n",
    "\n"
   ]
  },
  {
   "cell_type": "code",
   "execution_count": 104,
   "id": "1828b325",
   "metadata": {},
   "outputs": [
    {
     "data": {
      "text/html": [
       "<div>\n",
       "<style scoped>\n",
       "    .dataframe tbody tr th:only-of-type {\n",
       "        vertical-align: middle;\n",
       "    }\n",
       "\n",
       "    .dataframe tbody tr th {\n",
       "        vertical-align: top;\n",
       "    }\n",
       "\n",
       "    .dataframe thead th {\n",
       "        text-align: right;\n",
       "    }\n",
       "</style>\n",
       "<table border=\"1\" class=\"dataframe\">\n",
       "  <thead>\n",
       "    <tr style=\"text-align: right;\">\n",
       "      <th></th>\n",
       "      <th>x_true</th>\n",
       "      <th>y_true</th>\n",
       "      <th>x_pred</th>\n",
       "      <th>y_pred</th>\n",
       "      <th>error</th>\n",
       "      <th>error_angle</th>\n",
       "    </tr>\n",
       "  </thead>\n",
       "  <tbody>\n",
       "    <tr>\n",
       "      <th>0</th>\n",
       "      <td>1</td>\n",
       "      <td>3</td>\n",
       "      <td>2.577333</td>\n",
       "      <td>4.110000</td>\n",
       "      <td>1.214977</td>\n",
       "      <td>2.627239</td>\n",
       "    </tr>\n",
       "    <tr>\n",
       "      <th>1</th>\n",
       "      <td>1</td>\n",
       "      <td>8</td>\n",
       "      <td>2.822000</td>\n",
       "      <td>7.500000</td>\n",
       "      <td>1.160935</td>\n",
       "      <td>5.447399</td>\n",
       "    </tr>\n",
       "    <tr>\n",
       "      <th>2</th>\n",
       "      <td>5</td>\n",
       "      <td>16</td>\n",
       "      <td>5.048000</td>\n",
       "      <td>15.028000</td>\n",
       "      <td>0.622497</td>\n",
       "      <td>3.573127</td>\n",
       "    </tr>\n",
       "    <tr>\n",
       "      <th>3</th>\n",
       "      <td>7</td>\n",
       "      <td>9</td>\n",
       "      <td>6.734000</td>\n",
       "      <td>11.328667</td>\n",
       "      <td>1.458119</td>\n",
       "      <td>3.922584</td>\n",
       "    </tr>\n",
       "    <tr>\n",
       "      <th>4</th>\n",
       "      <td>7</td>\n",
       "      <td>12</td>\n",
       "      <td>7.017333</td>\n",
       "      <td>12.303333</td>\n",
       "      <td>0.344821</td>\n",
       "      <td>1.252360</td>\n",
       "    </tr>\n",
       "    <tr>\n",
       "      <th>5</th>\n",
       "      <td>9</td>\n",
       "      <td>9</td>\n",
       "      <td>8.950667</td>\n",
       "      <td>4.066000</td>\n",
       "      <td>2.987422</td>\n",
       "      <td>2.654148</td>\n",
       "    </tr>\n",
       "    <tr>\n",
       "      <th>6</th>\n",
       "      <td>10</td>\n",
       "      <td>11</td>\n",
       "      <td>8.028000</td>\n",
       "      <td>11.890000</td>\n",
       "      <td>1.354263</td>\n",
       "      <td>9.481906</td>\n",
       "    </tr>\n",
       "    <tr>\n",
       "      <th>7</th>\n",
       "      <td>12</td>\n",
       "      <td>11</td>\n",
       "      <td>10.441333</td>\n",
       "      <td>11.153333</td>\n",
       "      <td>0.942950</td>\n",
       "      <td>6.825238</td>\n",
       "    </tr>\n",
       "  </tbody>\n",
       "</table>\n",
       "</div>"
      ],
      "text/plain": [
       "   x_true  y_true     x_pred     y_pred     error  error_angle\n",
       "0       1       3   2.577333   4.110000  1.214977     2.627239\n",
       "1       1       8   2.822000   7.500000  1.160935     5.447399\n",
       "2       5      16   5.048000  15.028000  0.622497     3.573127\n",
       "3       7       9   6.734000  11.328667  1.458119     3.922584\n",
       "4       7      12   7.017333  12.303333  0.344821     1.252360\n",
       "5       9       9   8.950667   4.066000  2.987422     2.654148\n",
       "6      10      11   8.028000  11.890000  1.354263     9.481906\n",
       "7      12      11  10.441333  11.153333  0.942950     6.825238"
      ]
     },
     "execution_count": 104,
     "metadata": {},
     "output_type": "execute_result"
    }
   ],
   "source": [
    "average_df.head(10)"
   ]
  },
  {
   "cell_type": "code",
   "execution_count": 105,
   "id": "778d28e5",
   "metadata": {},
   "outputs": [
    {
     "data": {
      "text/html": [
       "<div>\n",
       "<style scoped>\n",
       "    .dataframe tbody tr th:only-of-type {\n",
       "        vertical-align: middle;\n",
       "    }\n",
       "\n",
       "    .dataframe tbody tr th {\n",
       "        vertical-align: top;\n",
       "    }\n",
       "\n",
       "    .dataframe thead th {\n",
       "        text-align: right;\n",
       "    }\n",
       "</style>\n",
       "<table border=\"1\" class=\"dataframe\">\n",
       "  <thead>\n",
       "    <tr style=\"text-align: right;\">\n",
       "      <th></th>\n",
       "      <th>x_true</th>\n",
       "      <th>y_true</th>\n",
       "      <th>x_pred</th>\n",
       "      <th>y_pred</th>\n",
       "      <th>error</th>\n",
       "      <th>error_angle</th>\n",
       "    </tr>\n",
       "  </thead>\n",
       "  <tbody>\n",
       "    <tr>\n",
       "      <th>0</th>\n",
       "      <td>1</td>\n",
       "      <td>3</td>\n",
       "      <td>2.577333</td>\n",
       "      <td>4.110000</td>\n",
       "      <td>1.214977</td>\n",
       "      <td>2.627239</td>\n",
       "    </tr>\n",
       "    <tr>\n",
       "      <th>1</th>\n",
       "      <td>1</td>\n",
       "      <td>8</td>\n",
       "      <td>2.822000</td>\n",
       "      <td>7.500000</td>\n",
       "      <td>1.160935</td>\n",
       "      <td>5.447399</td>\n",
       "    </tr>\n",
       "    <tr>\n",
       "      <th>2</th>\n",
       "      <td>5</td>\n",
       "      <td>16</td>\n",
       "      <td>5.048000</td>\n",
       "      <td>15.028000</td>\n",
       "      <td>0.622497</td>\n",
       "      <td>3.573127</td>\n",
       "    </tr>\n",
       "    <tr>\n",
       "      <th>3</th>\n",
       "      <td>7</td>\n",
       "      <td>9</td>\n",
       "      <td>6.734000</td>\n",
       "      <td>11.328667</td>\n",
       "      <td>1.458119</td>\n",
       "      <td>3.922584</td>\n",
       "    </tr>\n",
       "    <tr>\n",
       "      <th>4</th>\n",
       "      <td>7</td>\n",
       "      <td>12</td>\n",
       "      <td>7.017333</td>\n",
       "      <td>12.303333</td>\n",
       "      <td>0.344821</td>\n",
       "      <td>1.252360</td>\n",
       "    </tr>\n",
       "    <tr>\n",
       "      <th>5</th>\n",
       "      <td>9</td>\n",
       "      <td>9</td>\n",
       "      <td>8.950667</td>\n",
       "      <td>4.066000</td>\n",
       "      <td>2.987422</td>\n",
       "      <td>2.654148</td>\n",
       "    </tr>\n",
       "    <tr>\n",
       "      <th>6</th>\n",
       "      <td>10</td>\n",
       "      <td>11</td>\n",
       "      <td>8.028000</td>\n",
       "      <td>11.890000</td>\n",
       "      <td>1.354263</td>\n",
       "      <td>9.481906</td>\n",
       "    </tr>\n",
       "    <tr>\n",
       "      <th>7</th>\n",
       "      <td>12</td>\n",
       "      <td>11</td>\n",
       "      <td>10.441333</td>\n",
       "      <td>11.153333</td>\n",
       "      <td>0.942950</td>\n",
       "      <td>6.825238</td>\n",
       "    </tr>\n",
       "  </tbody>\n",
       "</table>\n",
       "</div>"
      ],
      "text/plain": [
       "   x_true  y_true     x_pred     y_pred     error  error_angle\n",
       "0       1       3   2.577333   4.110000  1.214977     2.627239\n",
       "1       1       8   2.822000   7.500000  1.160935     5.447399\n",
       "2       5      16   5.048000  15.028000  0.622497     3.573127\n",
       "3       7       9   6.734000  11.328667  1.458119     3.922584\n",
       "4       7      12   7.017333  12.303333  0.344821     1.252360\n",
       "5       9       9   8.950667   4.066000  2.987422     2.654148\n",
       "6      10      11   8.028000  11.890000  1.354263     9.481906\n",
       "7      12      11  10.441333  11.153333  0.942950     6.825238"
      ]
     },
     "execution_count": 105,
     "metadata": {},
     "output_type": "execute_result"
    }
   ],
   "source": [
    "average_df.head(10)"
   ]
  },
  {
   "cell_type": "code",
   "execution_count": 106,
   "id": "e474d455",
   "metadata": {},
   "outputs": [],
   "source": [
    "average_positions=average_df[['x_true','y_true']].astype(int).to_numpy()\n",
    "true_values=average_df[['x_pred','y_pred']].astype(int).to_numpy()"
   ]
  },
  {
   "cell_type": "code",
   "execution_count": null,
   "id": "41e09d71",
   "metadata": {},
   "outputs": [],
   "source": []
  },
  {
   "cell_type": "code",
   "execution_count": 108,
   "id": "5dfa3b8d",
   "metadata": {},
   "outputs": [
    {
     "data": {
      "image/png": "[encoded data removed]",
      "text/plain": [
       "<Figure size 640x480 with 1 Axes>"
      ]
     },
     "metadata": {},
     "output_type": "display_data"
    }
   ],
   "source": [
    "\n",
    "\n",
    "\n",
    "plt.clf()  # clear the figure\n",
    "\n",
    "#Display fan position\n",
    "plt.gca().add_patch(plt.Rectangle((0, 0), room_width, room_length, fill=None))\n",
    "plt.scatter(room_width-FAN_POSITION[0],FAN_POSITION[1], color='brown')\n",
    "plt.text(int(room_width-FAN_POSITION[0]), int(FAN_POSITION[1]), \"FAN\", fontsize=9, ha='right', va='bottom')\n",
    "# Plot the room as a rectangle\n",
    "\n",
    "plt.scatter(room_width-camera_position[0],camera_position[1], color='black')\n",
    "plt.text(int(room_width-camera_position[0]+2), int(camera_position[1]), \"Camera\", fontsize=9, ha='right', va='bottom')\n",
    "\n",
    "colors = [('red', 'lightcoral'), ('blue', 'lightskyblue'), ('green', 'lightgreen'),('yellow','lightyellow'),('purple','plum'),('orange','peachpuff'),('teal','paleturquoise'),('magenta','violet')]\n",
    "# Plot the current position of the marker\n",
    "\n",
    "for (est, real), (color_dark, color_light) in zip(zip(average_positions, true_values), colors):\n",
    "    est_tuple=(room_width-est[0],est[1])\n",
    "    real_tuple=(room_width-real[0],real[1])\n",
    "    plt.scatter(*real_tuple, color=color_light, label=f'Real {color_light}')\n",
    "    plt.scatter(*est_tuple, color=color_dark, label=f'Estimated {color_dark}')\n",
    "    \n",
    "    plt.plot([room_width-est[0], room_width-real[0]], [est[1], real[1]], color=color_dark, linestyle='--')\n",
    "\n",
    "\n",
    "\n",
    "#position_square[1]=room_length-position_square[1]\n",
    "\n",
    "#plt.scatter(*position_square, color='green')\n",
    "\n",
    "plt.xlim(0, room_width)\n",
    "plt.ylim(0, room_length)\n",
    "plt.xticks(range(room_width + 1))\n",
    "plt.yticks(range(room_length + 1))\n",
    "plt.grid(which='both', color='black', linewidth=0.5)\n",
    "plt.savefig('prediction_error_finger.png')\n",
    "plt.draw()"
   ]
  },
  {
   "cell_type": "code",
   "execution_count": null,
   "id": "23b60d0a",
   "metadata": {},
   "outputs": [],
   "source": []
  },
  {
   "cell_type": "code",
   "execution_count": null,
   "id": "4fe39271",
   "metadata": {},
   "outputs": [],
   "source": []
  }
 ],
 "metadata": {
  "kernelspec": {
   "display_name": "Python 3 (ipykernel)",
   "language": "python",
   "name": "python3"
  },
  "language_info": {
   "codemirror_mode": {
    "name": "ipython",
    "version": 3
   },
   "file_extension": ".py",
   "mimetype": "text/x-python",
   "name": "python",
   "nbconvert_exporter": "python",
   "pygments_lexer": "ipython3",
   "version": "3.11.5"
  }
 },
 "nbformat": 4,
 "nbformat_minor": 5
}
